{
 "cells": [
  {
   "cell_type": "code",
   "execution_count": 1,
   "metadata": {
    "collapsed": false
   },
   "outputs": [],
   "source": [
    "import pdb\n",
    "import pandas as pd\n",
    "import numpy as np\n",
    "import matplotlib.pyplot as plt\n",
    "import time\n",
    "import sklearn\n",
    "import statsmodels.formula.api as sm\n",
    "import random\n",
    "import itertools"
   ]
  },
  {
   "cell_type": "code",
   "execution_count": 2,
   "metadata": {
    "collapsed": false
   },
   "outputs": [],
   "source": []
  },
  {
   "cell_type": "code",
   "execution_count": 3,
   "metadata": {
    "collapsed": false
   },
   "outputs": [],
   "source": [
    "mu,sigma=0.0,1.0\n",
    "def create_random(num):\n",
    "    pd_rondom=np.random.normal(mu, sigma, num)\n",
    "    pd_rondom=pd.DataFrame(pd_rondom)\n",
    "    return pd_rondom\n",
    "# return x depending on element num and data num\n",
    "def make_x(element_num,data_num):\n",
    "    x_matrix=create_random(element_num)\n",
    "    for i in range(data_num-1):\n",
    "        x_small=create_random(element_num) #train_w = pd.DataFrame(fixed_random)[0:100]\n",
    "        x_matrix = pd.concat([x_matrix,x_small],axis=1) #pd.concat([create_random(100),create_random(100)],axis=1)\n",
    "    X = x_matrix.T\n",
    "    X.index = np.linspace(0,len(X.index)-1,len(X.index))\n",
    "    X.columns= np.linspace(0,len(X.columns)-1,len(X.columns))\n",
    "    return X"
   ]
  },
  {
   "cell_type": "code",
   "execution_count": 4,
   "metadata": {
    "collapsed": false
   },
   "outputs": [],
   "source": [
    "#\"\"\"\"\"\"\"\"\"\"\"\"\"\"\"\"\"\"\"\"\"\"\"\"\"\"\"\"\"\"\"\"\"\"\"\"\"\"\"\n",
    "#1.1\n",
    "#\"\"\"\"\"\"\"\"\"\"\"\"\"\"\"\"\"\"\"\"\"\"\"\"\"\"\"\"\"\"\"\"\"\"\"\"\"\"\"\""
   ]
  },
  {
   "cell_type": "code",
   "execution_count": 5,
   "metadata": {
    "collapsed": false
   },
   "outputs": [],
   "source": [
    "#######\n",
    "# DATA\n",
    "# K\n",
    "#\n",
    "\n",
    "element_num,data_num = 3,10\n",
    "k=5\n",
    "X = make_x(element_num,data_num)\n"
   ]
  },
  {
   "cell_type": "code",
   "execution_count": 6,
   "metadata": {
    "collapsed": false
   },
   "outputs": [],
   "source": [
    "# This function is used for only the first time of algorithm\n",
    "def initial_indicator(X,k):\n",
    "    r_indicator = pd.DataFrame(np.zeros([len(X),k]))\n",
    "    clusters = np.linspace(0,k-1,k,dtype=int)\n",
    "    data_num = np.linspace(0,len(X)-1,len(X),dtype=int)\n",
    "    \n",
    "    for cl in clusters:\n",
    "        random_datum = np.random.choice(data_num,size=1)\n",
    "        r_indicator.iloc[random_datum,cl]=1\n",
    "        del_indice = np.where(data_num == random_datum)\n",
    "        data_num = np.delete(data_num,del_indice)\n",
    "\n",
    "    for da in data_num:\n",
    "        random_cluster = np.random.choice(clusters,size=1)\n",
    "        r_indicator.iloc[da,random_cluster]=1\n",
    "    return r_indicator\n"
   ]
  },
  {
   "cell_type": "code",
   "execution_count": 7,
   "metadata": {
    "collapsed": false
   },
   "outputs": [],
   "source": [
    "# Return the new clustering \n",
    "def assign_data(X,r_indicator):   \n",
    "      # for every data x_i\n",
    "    for X_row in range(len(X)):\n",
    "        distance_list = []\n",
    "        for cluster in r_indicator.columns:\n",
    "            not_0_index = r_indicator[cluster].ix[r_indicator[cluster]!=0].index\n",
    "            centre_cluster = X.ix[not_0_index].mean(axis=0)  ## recomputing cluster center        \n",
    "            diff = (X.ix[X_row] - centre_cluster)\n",
    "            distance_list.append(diff.dot(diff.T))\n",
    "\n",
    "        new_j = np.argmin(distance_list) # new cluster index for data X_row\n",
    "        r_indicator.iloc[X_row,:]=0\n",
    "        r_indicator.iloc[X_row,new_j]=1\n",
    "        \n",
    "    return r_indicator\n",
    "    "
   ]
  },
  {
   "cell_type": "code",
   "execution_count": 8,
   "metadata": {
    "collapsed": false
   },
   "outputs": [
    {
     "name": "stdout",
     "output_type": "stream",
     "text": [
      "first    0  1  2  3  4\n",
      "0  0  0  0  1  0\n",
      "1  0  1  0  0  0\n",
      "2  0  1  0  0  0\n",
      "3  0  0  0  0  1\n",
      "4  0  1  0  0  0\n",
      "5  1  0  0  0  0\n",
      "6  0  0  0  0  1\n",
      "7  0  0  0  0  1\n",
      "8  0  0  1  0  0\n",
      "9  1  0  0  0  0\n",
      "end    0  1  2  3  4\n",
      "0  0  0  0  1  0\n",
      "1  1  0  0  0  0\n",
      "2  0  0  0  0  1\n",
      "3  0  1  0  0  0\n",
      "4  0  1  0  0  0\n",
      "5  1  0  0  0  0\n",
      "6  0  0  0  0  1\n",
      "7  0  0  0  0  1\n",
      "8  0  0  1  0  0\n",
      "9  1  0  0  0  0\n"
     ]
    }
   ],
   "source": [
    "############################\n",
    "#\n",
    "#   implementing  \n",
    "#        1. assign data \n",
    "#        2.check any change\n",
    "#        3. repeat\n",
    "############################\n",
    "\n",
    "r_indicator = initial_indicator(X,k)\n",
    "print \"first\",r_indicator\n",
    "\n",
    "while True:  # if there is any change, continue !(new_r_indicator == r_indicator):\n",
    "    new_r_indicator = assign_data(X,r_indicator)\n",
    "    if (new_r_indicator.values == r_indicator.values).all():break\n",
    "    else: continue\n",
    "\n",
    "print \"end\",new_r_indicator"
   ]
  },
  {
   "cell_type": "code",
   "execution_count": 9,
   "metadata": {
    "collapsed": false
   },
   "outputs": [],
   "source": [
    "#\"\"\"\"\"\"\"\"\"\"\"\"\"\"\"\"\"\"\"\"\"\"\"\"\"\"\"\"\"\"\"\"\"\"\"\"\"\"\"\n",
    "#1.1\n",
    "#    2.\n",
    "#\"\"\"\"\"\"\"\"\"\"\"\"\"\"\"\"\"\"\"\"\"\"\"\"\"\"\"\"\"\"\"\"\"\"\"\"\"\"\"\""
   ]
  },
  {
   "cell_type": "code",
   "execution_count": 10,
   "metadata": {
    "collapsed": false
   },
   "outputs": [],
   "source": [
    "# This is the provided code but it does not think cholesky.\n",
    "# the two variable normal distribution is not expressed from just a sum product.\n",
    "def genData2():\n",
    "    A1 = np.matrix([[0.29,0.4],[0.4,0.4]])\n",
    "    u1 = np.matrix([4,0])\n",
    "    A2 = np.matrix([[0.29,0.6],[0.6,0.9]])\n",
    "    u2 = np.matrix([5,7])\n",
    "    A3 = np.matrix([[0.64,0],[0,0.64]])\n",
    "    u3 = np.matrix([7,4])\n",
    "    data = np.random.randn(150,2)\n",
    "    data =np.matrix(data)\n",
    "    for i in range(50):\n",
    "        data[i,:] = (u1.T + A1.dot(data[i,:].T)).T\n",
    "    for i in range(50):\n",
    "        data[50+i,:] = ( u2.T + A2.dot(data[50+i,:].T) ).T\n",
    "    for i in range(50):\n",
    "        data[100+i,:] = ( u3.T + A3.dot(data[100+i,:].T) ).T\n",
    "    return data\n"
   ]
  },
  {
   "cell_type": "code",
   "execution_count": 11,
   "metadata": {
    "collapsed": false
   },
   "outputs": [],
   "source": [
    "# This is the code to generate random data. \n",
    "# This think cholesky decomposition.\n",
    "def genData2_2():\n",
    "    mean1 = [4.0,0.0]\n",
    "    cov1 = [[0.29,0.4],[0.4,0.4]]\n",
    "    mean2 = [5.0,7.0]\n",
    "    cov2 = [[0.29,0.6],[0.6,0.9]]\n",
    "    mean3 = [7.0,4.0]\n",
    "    cov3 = [[0.64,0.0],[0.0,0.64]]  \n",
    "\n",
    "    data1 = np.random.multivariate_normal(mean1, cov1, 50  )\n",
    "    data2 = np.random.multivariate_normal(mean2, cov2, 50   )\n",
    "    data3 = np.random.multivariate_normal(mean3, cov3, 50   )\n",
    "    \n",
    "    data = np.concatenate((data1, data2,data3), axis=0)\n",
    "    data =np.matrix(data)\n",
    "    \n",
    "    return data"
   ]
  },
  {
   "cell_type": "code",
   "execution_count": 11,
   "metadata": {
    "collapsed": false
   },
   "outputs": [],
   "source": []
  },
  {
   "cell_type": "code",
   "execution_count": 12,
   "metadata": {
    "collapsed": true
   },
   "outputs": [],
   "source": [
    "data =genData2() \n",
    "#data = genData2_2()\n",
    "plt.scatter(data[0:49,0],data[0:49,1],color='blue',marker=u'x',s=15)\n",
    "plt.scatter(data[0:49,0].mean(),data[0:49,1].mean(),color='blue',marker=u'o',s=50)\n",
    "\n",
    "plt.scatter(data[50:99,0],data[50:99,1],color=\"red\",marker=u'x',s=15)\n",
    "plt.scatter(data[50:99,0].mean(),data[50:99,1].mean(),color=\"red\",marker=u'o',s=50)\n",
    "\n",
    "plt.scatter(data[100:149,0],data[100:149,1],color=\"green\",marker=u'x',s=15)\n",
    "plt.scatter(data[100:149,0].mean(),data[100:149,1].mean(),color=\"green\",marker=u'o',s=50)\n",
    "\n",
    "plt.legend((\"S1\",\"S1 center\",\"S2\",\"S2 center\",\"S3\",\"S3 center\"))\n",
    "plt.xlabel(\"x\")\n",
    "plt.ylabel(\"y\")\n",
    "#plt.title(\"data from gendata\")\n",
    "plt.show()"
   ]
  },
  {
   "cell_type": "code",
   "execution_count": 12,
   "metadata": {
    "collapsed": false
   },
   "outputs": [],
   "source": []
  },
  {
   "cell_type": "code",
   "execution_count": 13,
   "metadata": {
    "collapsed": false
   },
   "outputs": [],
   "source": [
    "#####################################\n",
    "#\n",
    "#  last of 2. \n",
    "#"
   ]
  },
  {
   "cell_type": "code",
   "execution_count": 14,
   "metadata": {
    "collapsed": false
   },
   "outputs": [],
   "source": [
    "import itertools\n",
    "k=3\n",
    "seq = np.linspace(0,k-1,k)\n",
    "C_list = list(itertools.permutations(seq))\n",
    "\n",
    "def kmean_1time_return_occe(X,k,C_list):\n",
    "    r_indicator = initial_indicator(X,k)\n",
    "    while True: #kotonatte iru aida !(new_r_indicator == r_indicator):\n",
    "        new_r_indicator = assign_data(X,r_indicator)\n",
    "        if (new_r_indicator.values == r_indicator.values).all():break\n",
    "        else: continue\n",
    "    \n",
    "    error_list_sum_of_xi = np.zeros(len(C_list))\n",
    "    error_list_norm_of_x = np.zeros(len(C_list))\n",
    "    for C_num in range(len(C_list)):\n",
    "        C = C_list[C_num]\n",
    "        correct_answer = pd.DataFrame(np.zeros(new_r_indicator.shape))\n",
    "        correct_answer.iloc[0:49,int(C[0])]=1\n",
    "        correct_answer.iloc[50:99,int(C[1])]=1\n",
    "        correct_answer.iloc[100:len(new_r_indicator),int(C[2])]=1\n",
    "\n",
    "        tru_fal_matrix = (correct_answer==new_r_indicator)\n",
    "        ones = np.bool(len(tru_fal_matrix))\n",
    "        a = np.array(tru_fal_matrix.T.all())\n",
    "        tru_fal_index = ones - a\n",
    "\n",
    "        error_data = X.ix[tru_fal_index]\n",
    "        l = len(X)*1.0\n",
    "        err = 0\n",
    "        for i in (error_data.index):\n",
    "            err += np.linalg.norm(error_data.ix[i])\n",
    "        error_list_sum_of_xi[C_num] = err/l\n",
    "        error_list_norm_of_x[C_num] = np.linalg.norm(error_data)/l\n",
    "\n",
    "    return error_list_norm_of_x[error_list_norm_of_x.argmin()]\n",
    "\n",
    "data=genData2()  # set the data\n",
    "occe_history = [] \n",
    "repeat_num = 100\n",
    "data=pd.DataFrame(data)\n",
    "for i in range(repeat_num):\n",
    "    occe = kmean_1time_return_occe(data,k,C_list)\n",
    "    occe_history.append(occe)\n",
    "        "
   ]
  },
  {
   "cell_type": "code",
   "execution_count": 15,
   "metadata": {
    "collapsed": false
   },
   "outputs": [
    {
     "name": "stdout",
     "output_type": "stream",
     "text": [
      "mean 0.0763441823573\n",
      "s.d. 0.0292949245386\n"
     ]
    }
   ],
   "source": [
    "print \"mean\",np.array(occe_history).mean()\n",
    "print \"s.d.\", ( np.array(occe_history).var()  )**0.5"
   ]
  },
  {
   "cell_type": "code",
   "execution_count": 15,
   "metadata": {
    "collapsed": false
   },
   "outputs": [],
   "source": []
  },
  {
   "cell_type": "code",
   "execution_count": 15,
   "metadata": {
    "collapsed": false
   },
   "outputs": [],
   "source": []
  },
  {
   "cell_type": "code",
   "execution_count": 16,
   "metadata": {
    "collapsed": false
   },
   "outputs": [],
   "source": [
    "##############################\n",
    "#\n",
    "#   IRIS\n",
    "#"
   ]
  },
  {
   "cell_type": "code",
   "execution_count": 17,
   "metadata": {
    "collapsed": false
   },
   "outputs": [],
   "source": [
    "columns=[u'sepal_len', u'sepal_wid', u'petal_len', u'petal_wid', u'type']"
   ]
  },
  {
   "cell_type": "code",
   "execution_count": 18,
   "metadata": {
    "collapsed": false
   },
   "outputs": [],
   "source": [
    "index =np.array([  0,   1,   2,   3,   4,   5,   6,   7,   8,   9,  10,  11,  12,\n",
    "        13,  14,  15,  16,  17,  18,  19,  20,  21,  22,  23,  24,  25,\n",
    "        26,  27,  28,  29,  30,  31,  32,  33,  34,  35,  36,  37,  38,\n",
    "        39,  40,  41,  42,  43,  44,  45,  46,  47,  48,  49,  50,  51,\n",
    "        52,  53,  54,  55,  56,  57,  58,  59,  60,  61,  62,  63,  64,\n",
    "        65,  66,  67,  68,  69,  70,  71,  72,  73,  74,  75,  76,  77,\n",
    "        78,  79,  80,  81,  82,  83,  84,  85,  86,  87,  88,  89,  90,\n",
    "        91,  92,  93,  94,  95,  96,  97,  98,  99, 100, 101, 102, 103,\n",
    "       104, 105, 106, 107, 108, 109, 110, 111, 112, 113, 114, 115, 116,\n",
    "       117, 118, 119, 120, 121, 122, 123, 124, 125, 126, 127, 128, 129,\n",
    "       130, 131, 132, 133, 134, 135, 136, 137, 138, 139, 140, 141, 142,\n",
    "       143, 144, 145, 146, 147, 148, 149])"
   ]
  },
  {
   "cell_type": "code",
   "execution_count": 19,
   "metadata": {
    "collapsed": false
   },
   "outputs": [],
   "source": [
    "# THis data is the iris data\n",
    "iris=np.array([[5.1, 3.5, 1.4, 0.2, 'Iris-setosa'],\n",
    "       [4.9, 3.0, 1.4, 0.2, 'Iris-setosa'],\n",
    "       [4.7, 3.2, 1.3, 0.2, 'Iris-setosa'],\n",
    "       [4.6, 3.1, 1.5, 0.2, 'Iris-setosa'],\n",
    "       [5.0, 3.6, 1.4, 0.2, 'Iris-setosa'],\n",
    "       [5.4, 3.9, 1.7, 0.4, 'Iris-setosa'],\n",
    "       [4.6, 3.4, 1.4, 0.3, 'Iris-setosa'],\n",
    "       [5.0, 3.4, 1.5, 0.2, 'Iris-setosa'],\n",
    "       [4.4, 2.9, 1.4, 0.2, 'Iris-setosa'],\n",
    "       [4.9, 3.1, 1.5, 0.1, 'Iris-setosa'],\n",
    "       [5.4, 3.7, 1.5, 0.2, 'Iris-setosa'],\n",
    "       [4.8, 3.4, 1.6, 0.2, 'Iris-setosa'],\n",
    "       [4.8, 3.0, 1.4, 0.1, 'Iris-setosa'],\n",
    "       [4.3, 3.0, 1.1, 0.1, 'Iris-setosa'],\n",
    "       [5.8, 4.0, 1.2, 0.2, 'Iris-setosa'],\n",
    "       [5.7, 4.4, 1.5, 0.4, 'Iris-setosa'],\n",
    "       [5.4, 3.9, 1.3, 0.4, 'Iris-setosa'],\n",
    "       [5.1, 3.5, 1.4, 0.3, 'Iris-setosa'],\n",
    "       [5.7, 3.8, 1.7, 0.3, 'Iris-setosa'],\n",
    "       [5.1, 3.8, 1.5, 0.3, 'Iris-setosa'],\n",
    "       [5.4, 3.4, 1.7, 0.2, 'Iris-setosa'],\n",
    "       [5.1, 3.7, 1.5, 0.4, 'Iris-setosa'],\n",
    "       [4.6, 3.6, 1.0, 0.2, 'Iris-setosa'],\n",
    "       [5.1, 3.3, 1.7, 0.5, 'Iris-setosa'],\n",
    "       [4.8, 3.4, 1.9, 0.2, 'Iris-setosa'],\n",
    "       [5.0, 3.0, 1.6, 0.2, 'Iris-setosa'],\n",
    "       [5.0, 3.4, 1.6, 0.4, 'Iris-setosa'],\n",
    "       [5.2, 3.5, 1.5, 0.2, 'Iris-setosa'],\n",
    "       [5.2, 3.4, 1.4, 0.2, 'Iris-setosa'],\n",
    "       [4.7, 3.2, 1.6, 0.2, 'Iris-setosa'],\n",
    "       [4.8, 3.1, 1.6, 0.2, 'Iris-setosa'],\n",
    "       [5.4, 3.4, 1.5, 0.4, 'Iris-setosa'],\n",
    "       [5.2, 4.1, 1.5, 0.1, 'Iris-setosa'],\n",
    "       [5.5, 4.2, 1.4, 0.2, 'Iris-setosa'],\n",
    "       [4.9, 3.1, 1.5, 0.1, 'Iris-setosa'],\n",
    "       [5.0, 3.2, 1.2, 0.2, 'Iris-setosa'],\n",
    "       [5.5, 3.5, 1.3, 0.2, 'Iris-setosa'],\n",
    "       [4.9, 3.1, 1.5, 0.1, 'Iris-setosa'],\n",
    "       [4.4, 3.0, 1.3, 0.2, 'Iris-setosa'],\n",
    "       [5.1, 3.4, 1.5, 0.2, 'Iris-setosa'],\n",
    "       [5.0, 3.5, 1.3, 0.3, 'Iris-setosa'],\n",
    "       [4.5, 2.3, 1.3, 0.3, 'Iris-setosa'],\n",
    "       [4.4, 3.2, 1.3, 0.2, 'Iris-setosa'],\n",
    "       [5.0, 3.5, 1.6, 0.6, 'Iris-setosa'],\n",
    "       [5.1, 3.8, 1.9, 0.4, 'Iris-setosa'],\n",
    "       [4.8, 3.0, 1.4, 0.3, 'Iris-setosa'],\n",
    "       [5.1, 3.8, 1.6, 0.2, 'Iris-setosa'],\n",
    "       [4.6, 3.2, 1.4, 0.2, 'Iris-setosa'],\n",
    "       [5.3, 3.7, 1.5, 0.2, 'Iris-setosa'],\n",
    "       [5.0, 3.3, 1.4, 0.2, 'Iris-setosa'],\n",
    "       [7.0, 3.2, 4.7, 1.4, 'Iris-versicolor'],\n",
    "       [6.4, 3.2, 4.5, 1.5, 'Iris-versicolor'],\n",
    "       [6.9, 3.1, 4.9, 1.5, 'Iris-versicolor'],\n",
    "       [5.5, 2.3, 4.0, 1.3, 'Iris-versicolor'],\n",
    "       [6.5, 2.8, 4.6, 1.5, 'Iris-versicolor'],\n",
    "       [5.7, 2.8, 4.5, 1.3, 'Iris-versicolor'],\n",
    "       [6.3, 3.3, 4.7, 1.6, 'Iris-versicolor'],\n",
    "       [4.9, 2.4, 3.3, 1.0, 'Iris-versicolor'],\n",
    "       [6.6, 2.9, 4.6, 1.3, 'Iris-versicolor'],\n",
    "       [5.2, 2.7, 3.9, 1.4, 'Iris-versicolor'],\n",
    "       [5.0, 2.0, 3.5, 1.0, 'Iris-versicolor'],\n",
    "       [5.9, 3.0, 4.2, 1.5, 'Iris-versicolor'],\n",
    "       [6.0, 2.2, 4.0, 1.0, 'Iris-versicolor'],\n",
    "       [6.1, 2.9, 4.7, 1.4, 'Iris-versicolor'],\n",
    "       [5.6, 2.9, 3.6, 1.3, 'Iris-versicolor'],\n",
    "       [6.7, 3.1, 4.4, 1.4, 'Iris-versicolor'],\n",
    "       [5.6, 3.0, 4.5, 1.5, 'Iris-versicolor'],\n",
    "       [5.8, 2.7, 4.1, 1.0, 'Iris-versicolor'],\n",
    "       [6.2, 2.2, 4.5, 1.5, 'Iris-versicolor'],\n",
    "       [5.6, 2.5, 3.9, 1.1, 'Iris-versicolor'],\n",
    "       [5.9, 3.2, 4.8, 1.8, 'Iris-versicolor'],\n",
    "       [6.1, 2.8, 4.0, 1.3, 'Iris-versicolor'],\n",
    "       [6.3, 2.5, 4.9, 1.5, 'Iris-versicolor'],\n",
    "       [6.1, 2.8, 4.7, 1.2, 'Iris-versicolor'],\n",
    "       [6.4, 2.9, 4.3, 1.3, 'Iris-versicolor'],\n",
    "       [6.6, 3.0, 4.4, 1.4, 'Iris-versicolor'],\n",
    "       [6.8, 2.8, 4.8, 1.4, 'Iris-versicolor'],\n",
    "       [6.7, 3.0, 5.0, 1.7, 'Iris-versicolor'],\n",
    "       [6.0, 2.9, 4.5, 1.5, 'Iris-versicolor'],\n",
    "       [5.7, 2.6, 3.5, 1.0, 'Iris-versicolor'],\n",
    "       [5.5, 2.4, 3.8, 1.1, 'Iris-versicolor'],\n",
    "       [5.5, 2.4, 3.7, 1.0, 'Iris-versicolor'],\n",
    "       [5.8, 2.7, 3.9, 1.2, 'Iris-versicolor'],\n",
    "       [6.0, 2.7, 5.1, 1.6, 'Iris-versicolor'],\n",
    "       [5.4, 3.0, 4.5, 1.5, 'Iris-versicolor'],\n",
    "       [6.0, 3.4, 4.5, 1.6, 'Iris-versicolor'],\n",
    "       [6.7, 3.1, 4.7, 1.5, 'Iris-versicolor'],\n",
    "       [6.3, 2.3, 4.4, 1.3, 'Iris-versicolor'],\n",
    "       [5.6, 3.0, 4.1, 1.3, 'Iris-versicolor'],\n",
    "       [5.5, 2.5, 4.0, 1.3, 'Iris-versicolor'],\n",
    "       [5.5, 2.6, 4.4, 1.2, 'Iris-versicolor'],\n",
    "       [6.1, 3.0, 4.6, 1.4, 'Iris-versicolor'],\n",
    "       [5.8, 2.6, 4.0, 1.2, 'Iris-versicolor'],\n",
    "       [5.0, 2.3, 3.3, 1.0, 'Iris-versicolor'],\n",
    "       [5.6, 2.7, 4.2, 1.3, 'Iris-versicolor'],\n",
    "       [5.7, 3.0, 4.2, 1.2, 'Iris-versicolor'],\n",
    "       [5.7, 2.9, 4.2, 1.3, 'Iris-versicolor'],\n",
    "       [6.2, 2.9, 4.3, 1.3, 'Iris-versicolor'],\n",
    "       [5.1, 2.5, 3.0, 1.1, 'Iris-versicolor'],\n",
    "       [5.7, 2.8, 4.1, 1.3, 'Iris-versicolor'],\n",
    "       [6.3, 3.3, 6.0, 2.5, 'Iris-virginica'],\n",
    "       [5.8, 2.7, 5.1, 1.9, 'Iris-virginica'],\n",
    "       [7.1, 3.0, 5.9, 2.1, 'Iris-virginica'],\n",
    "       [6.3, 2.9, 5.6, 1.8, 'Iris-virginica'],\n",
    "       [6.5, 3.0, 5.8, 2.2, 'Iris-virginica'],\n",
    "       [7.6, 3.0, 6.6, 2.1, 'Iris-virginica'],\n",
    "       [4.9, 2.5, 4.5, 1.7, 'Iris-virginica'],\n",
    "       [7.3, 2.9, 6.3, 1.8, 'Iris-virginica'],\n",
    "       [6.7, 2.5, 5.8, 1.8, 'Iris-virginica'],\n",
    "       [7.2, 3.6, 6.1, 2.5, 'Iris-virginica'],\n",
    "       [6.5, 3.2, 5.1, 2.0, 'Iris-virginica'],\n",
    "       [6.4, 2.7, 5.3, 1.9, 'Iris-virginica'],\n",
    "       [6.8, 3.0, 5.5, 2.1, 'Iris-virginica'],\n",
    "       [5.7, 2.5, 5.0, 2.0, 'Iris-virginica'],\n",
    "       [5.8, 2.8, 5.1, 2.4, 'Iris-virginica'],\n",
    "       [6.4, 3.2, 5.3, 2.3, 'Iris-virginica'],\n",
    "       [6.5, 3.0, 5.5, 1.8, 'Iris-virginica'],\n",
    "       [7.7, 3.8, 6.7, 2.2, 'Iris-virginica'],\n",
    "       [7.7, 2.6, 6.9, 2.3, 'Iris-virginica'],\n",
    "       [6.0, 2.2, 5.0, 1.5, 'Iris-virginica'],\n",
    "       [6.9, 3.2, 5.7, 2.3, 'Iris-virginica'],\n",
    "       [5.6, 2.8, 4.9, 2.0, 'Iris-virginica'],\n",
    "       [7.7, 2.8, 6.7, 2.0, 'Iris-virginica'],\n",
    "       [6.3, 2.7, 4.9, 1.8, 'Iris-virginica'],\n",
    "       [6.7, 3.3, 5.7, 2.1, 'Iris-virginica'],\n",
    "       [7.2, 3.2, 6.0, 1.8, 'Iris-virginica'],\n",
    "       [6.2, 2.8, 4.8, 1.8, 'Iris-virginica'],\n",
    "       [6.1, 3.0, 4.9, 1.8, 'Iris-virginica'],\n",
    "       [6.4, 2.8, 5.6, 2.1, 'Iris-virginica'],\n",
    "       [7.2, 3.0, 5.8, 1.6, 'Iris-virginica'],\n",
    "       [7.4, 2.8, 6.1, 1.9, 'Iris-virginica'],\n",
    "       [7.9, 3.8, 6.4, 2.0, 'Iris-virginica'],\n",
    "       [6.4, 2.8, 5.6, 2.2, 'Iris-virginica'],\n",
    "       [6.3, 2.8, 5.1, 1.5, 'Iris-virginica'],\n",
    "       [6.1, 2.6, 5.6, 1.4, 'Iris-virginica'],\n",
    "       [7.7, 3.0, 6.1, 2.3, 'Iris-virginica'],\n",
    "       [6.3, 3.4, 5.6, 2.4, 'Iris-virginica'],\n",
    "       [6.4, 3.1, 5.5, 1.8, 'Iris-virginica'],\n",
    "       [6.0, 3.0, 4.8, 1.8, 'Iris-virginica'],\n",
    "       [6.9, 3.1, 5.4, 2.1, 'Iris-virginica'],\n",
    "       [6.7, 3.1, 5.6, 2.4, 'Iris-virginica'],\n",
    "       [6.9, 3.1, 5.1, 2.3, 'Iris-virginica'],\n",
    "       [5.8, 2.7, 5.1, 1.9, 'Iris-virginica'],\n",
    "       [6.8, 3.2, 5.9, 2.3, 'Iris-virginica'],\n",
    "       [6.7, 3.3, 5.7, 2.5, 'Iris-virginica'],\n",
    "       [6.7, 3.0, 5.2, 2.3, 'Iris-virginica'],\n",
    "       [6.3, 2.5, 5.0, 1.9, 'Iris-virginica'],\n",
    "       [6.5, 3.0, 5.2, 2.0, 'Iris-virginica'],\n",
    "       [6.2, 3.4, 5.4, 2.3, 'Iris-virginica'],\n",
    "       [5.9, 3.0, 5.1, 1.8, 'Iris-virginica']], dtype=object)"
   ]
  },
  {
   "cell_type": "code",
   "execution_count": 20,
   "metadata": {
    "collapsed": false
   },
   "outputs": [],
   "source": [
    "iris = pd.DataFrame(iris)\n",
    "iris.columns=columns\n",
    "iris.index=index"
   ]
  },
  {
   "cell_type": "code",
   "execution_count": 21,
   "metadata": {
    "collapsed": false
   },
   "outputs": [],
   "source": [
    "X = iris.drop(u'type',axis=1)"
   ]
  },
  {
   "cell_type": "code",
   "execution_count": 22,
   "metadata": {
    "collapsed": false
   },
   "outputs": [],
   "source": [
    "def kmean_1time_return_occe(X,k,C_list):\n",
    "    r_indicator = initial_indicator(X,k)\n",
    "    while True: #kotonatte iru aida !(new_r_indicator == r_indicator):\n",
    "        new_r_indicator = assign_data(X,r_indicator)\n",
    "        if (new_r_indicator.values == r_indicator.values).all():break\n",
    "        else: continue\n",
    "    \n",
    "    error_list_sum_of_xi = np.zeros(len(C_list))\n",
    "    error_list_norm_of_x = np.zeros(len(C_list))\n",
    "    for C_num in range(len(C_list)):\n",
    "        C = C_list[C_num]\n",
    "        correct_answer = pd.DataFrame(np.zeros(new_r_indicator.shape))\n",
    "        correct_answer.iloc[0:49,int(C[0])]=1\n",
    "        correct_answer.iloc[50:99,int(C[1])]=1\n",
    "        correct_answer.iloc[100:len(new_r_indicator),int(C[2])]=1\n",
    "\n",
    "        tru_fal_matrix = (correct_answer==new_r_indicator)\n",
    "        ones = np.bool(len(tru_fal_matrix))\n",
    "        a = np.array(tru_fal_matrix.T.all())\n",
    "        tru_fal_index = ones - a\n",
    "\n",
    "        error_data = X.ix[tru_fal_index]\n",
    "        l = len(X)*1.0\n",
    "        err = 0\n",
    "        for i in (error_data.index):\n",
    "            err += np.linalg.norm(error_data.ix[i])\n",
    "        error_list_sum_of_xi[C_num] = err/l\n",
    "        error_list_norm_of_x[C_num] = np.linalg.norm(error_data)/l\n",
    "    #print \"occe_sum_of_xi\",error_list_sum_of_xi[error_list_sum_of_xi.argmin()],\"correct_cluster\",C_list[error_list_sum_of_xi.argmin()]\n",
    "    #print \"occe_norm_of_x\",error_list_norm_of_x[error_list_norm_of_x.argmin()],\"correct_cluster\",C_list[error_list_norm_of_x.argmin()]\n",
    "    \n",
    "    #return error_list_sum_of_xi[error_list_sum_of_xi.argmin()]\n",
    "    return error_list_norm_of_x[error_list_norm_of_x.argmin()]\n",
    "    \n",
    "occe_history = []\n",
    "repeat_num = 100\n",
    "for i in range(repeat_num):\n",
    "    occe = kmean_1time_return_occe(X,k,C_list)\n",
    "    occe_history.append(occe)\n",
    "        "
   ]
  },
  {
   "cell_type": "code",
   "execution_count": 23,
   "metadata": {
    "collapsed": false
   },
   "outputs": [
    {
     "name": "stdout",
     "output_type": "stream",
     "text": [
      "mean 0.281234798449\n",
      "s.d. 0.020131714256\n"
     ]
    }
   ],
   "source": [
    "print \"mean\",np.array(occe_history).mean()\n",
    "print \"s.d.\",( np.array(occe_history).var() )**0.5"
   ]
  },
  {
   "cell_type": "code",
   "execution_count": 23,
   "metadata": {
    "collapsed": false
   },
   "outputs": [],
   "source": []
  },
  {
   "cell_type": "code",
   "execution_count": null,
   "metadata": {
    "collapsed": false
   },
   "outputs": [],
   "source": []
  }
 ],
 "metadata": {
  "kernelspec": {
   "display_name": "Python 2",
   "language": "python",
   "name": "python2"
  },
  "language_info": {
   "codemirror_mode": {
    "name": "ipython",
    "version": 2
   },
   "file_extension": ".py",
   "mimetype": "text/x-python",
   "name": "python",
   "nbconvert_exporter": "python",
   "pygments_lexer": "ipython2",
   "version": "2.7.11"
  }
 },
 "nbformat": 4,
 "nbformat_minor": 0
}
